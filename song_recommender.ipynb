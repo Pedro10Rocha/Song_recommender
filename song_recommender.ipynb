{
 "cells": [
  {
   "cell_type": "code",
   "execution_count": null,
   "metadata": {
    "collapsed": true
   },
   "outputs": [],
   "source": [
    "import numpy as np\n",
    "import pandas as pd\n",
    "from fuzzywuzzy import fuzz\n",
    "from fuzzywuzzy import process"
   ]
  },
  {
   "cell_type": "code",
   "execution_count": null,
   "outputs": [],
   "source": [
    "hot_100 = pd.read_csv(\"hot.csv\")"
   ],
   "metadata": {
    "collapsed": false
   }
  },
  {
   "cell_type": "code",
   "execution_count": null,
   "outputs": [],
   "source": [
    "hot_100.drop(columns = ['Unnamed: 0'], inplace = True)\n",
    "print(hot_100)"
   ],
   "metadata": {
    "collapsed": false
   }
  },
  {
   "cell_type": "code",
   "execution_count": null,
   "outputs": [],
   "source": [
    "song_random = hot_100.sample()"
   ],
   "metadata": {
    "collapsed": false
   }
  },
  {
   "cell_type": "code",
   "execution_count": null,
   "outputs": [],
   "source": [
    "songs = []\n",
    "for i in hot_100['Titles']:\n",
    "    songs.append(i)\n",
    "\n",
    "artists = []\n",
    "for i in hot_100['Artists']:\n",
    "    artists.append(i)"
   ],
   "metadata": {
    "collapsed": false
   }
  },
  {
   "cell_type": "code",
   "execution_count": null,
   "outputs": [],
   "source": [
    "def treating_typos_song():\n",
    "    song_input = input(\"Please, write the title of the song.\")\n",
    "    if process.extractOne(song_input, songs)[1] > 80:\n",
    "        song_ = process.extractOne(song_input, songs)[0]\n",
    "    else:\n",
    "        song_ = song_input\n",
    "    return song_"
   ],
   "metadata": {
    "collapsed": false
   }
  },
  {
   "cell_type": "code",
   "execution_count": null,
   "outputs": [],
   "source": [
    "def treating_typos_artist():\n",
    "    artist_input = input(\"Please, write the name of the artist.\")\n",
    "    if process.extractOne(artist_input, artists)[1] > 80:\n",
    "        artist_ = process.extractOne(artist_input, artists)[0]\n",
    "    else:\n",
    "        artist_ = artist_input\n",
    "    return artist_"
   ],
   "metadata": {
    "collapsed": false
   }
  },
  {
   "cell_type": "code",
   "execution_count": null,
   "outputs": [],
   "source": [
    "def filter_song_out(song, artist):\n",
    "    idx = hot_100.index[(hot_100['Song'] == song) & (hot_100['Artist'] == artist)].tolist()[0]\n",
    "    hot_100.drop(idx)"
   ],
   "metadata": {
    "collapsed": false
   }
  },
  {
   "cell_type": "code",
   "execution_count": null,
   "outputs": [],
   "source": [
    "spotify_songs = pd.read_csv(\"musics.csv\")\n",
    "spotify_songs"
   ],
   "metadata": {
    "collapsed": false
   }
  },
  {
   "cell_type": "code",
   "execution_count": null,
   "outputs": [],
   "source": [
    "X = spotify_songs.drop(columns = spotify_songs[[\"id\", \"Unnamed: 0\", \"Unnamed: 0\"]]) #removing the if column so it doesn't get standardized"
   ],
   "metadata": {
    "collapsed": false
   }
  },
  {
   "cell_type": "code",
   "execution_count": null,
   "outputs": [],
   "source": [
    "from sklearn.preprocessing import StandardScaler"
   ],
   "metadata": {
    "collapsed": false
   }
  },
  {
   "cell_type": "code",
   "execution_count": null,
   "outputs": [],
   "source": [
    "    X\n",
    "scaler = StandardScaler()\n",
    "scaler.fit(X)\n",
    "X_scaled = scaler.transform(X)\n",
    "X_scaled_df = pd.DataFrame(X_scaled, columns=X.columns)\n",
    "X_scaled_df"
   ],
   "metadata": {
    "collapsed": false
   }
  },
  {
   "cell_type": "code",
   "execution_count": null,
   "outputs": [],
   "source": [
    "#Finding the best number of clusters\n",
    "\n",
    "from sklearn.cluster import KMeans\n",
    "\n",
    "K = range(2, 30)\n",
    "inertia = []\n",
    "\n",
    "for k in K:\n",
    "    kmeans = KMeans(n_clusters=k,\n",
    "                    random_state=1234)\n",
    "    kmeans.fit(X_scaled_df)\n",
    "    inertia.append(kmeans.inertia_)\n",
    "\n",
    "import matplotlib.pyplot as plt\n",
    "%matplotlib inline\n",
    "\n",
    "plt.figure(figsize=(16,8))\n",
    "plt.plot(K, inertia, 'bx-')\n",
    "plt.xlabel('k')\n",
    "plt.ylabel('inertia')\n",
    "plt.xticks(np.arange(min(K), max(K)+1, 1.0))\n",
    "plt.title('Elbow Method showing the optimal k')"
   ],
   "metadata": {
    "collapsed": false
   }
  },
  {
   "cell_type": "code",
   "execution_count": null,
   "outputs": [],
   "source": [
    "import pickle\n",
    "from sklearn.metrics import silhouette_score\n",
    "\n",
    "K = range(2, 30)\n",
    "silhouette = []\n",
    "\n",
    "for k in K:\n",
    "    kmeans = KMeans(n_clusters=k,\n",
    "                    random_state=1234)\n",
    "    kmeans.fit(X_scaled_df)\n",
    "\n",
    "    filename = \"Model/kmeans_\" + str(k) + \".pickle\"\n",
    "    with open(filename, \"wb\") as f:\n",
    "        pickle.dump(kmeans,f)\n",
    "\n",
    "    silhouette.append(silhouette_score(X_scaled_df, kmeans.predict(X_scaled_df)))\n",
    "\n",
    "\n",
    "plt.figure(figsize=(16,8))\n",
    "plt.plot(K, silhouette, 'bx-')\n",
    "plt.xlabel('k')\n",
    "plt.ylabel('silhouette score')\n",
    "plt.xticks(np.arange(min(K), max(K)+1, 1.0))\n",
    "plt.title('Silhouette Method showing the optimal k')"
   ],
   "metadata": {
    "collapsed": false
   }
  },
  {
   "cell_type": "code",
   "execution_count": null,
   "outputs": [],
   "source": [
    "#Looks like 6 is the optimal number of clusters to work with"
   ],
   "metadata": {
    "collapsed": false
   }
  },
  {
   "cell_type": "code",
   "execution_count": null,
   "outputs": [],
   "source": [
    "kmeans = KMeans(n_clusters=6, random_state=1234)\n",
    "kmeans.fit(X_scaled_df)"
   ],
   "metadata": {
    "collapsed": false
   }
  },
  {
   "cell_type": "code",
   "execution_count": null,
   "outputs": [],
   "source": [
    "clusters = kmeans.predict(X_scaled_df)\n",
    "pd.Series(clusters).value_counts().sort_index()"
   ],
   "metadata": {
    "collapsed": false
   }
  },
  {
   "cell_type": "code",
   "execution_count": null,
   "outputs": [],
   "source": [
    "X[\"cluster\"] = clusters"
   ],
   "metadata": {
    "collapsed": false
   }
  },
  {
   "cell_type": "code",
   "execution_count": null,
   "outputs": [],
   "source": [
    "X"
   ],
   "metadata": {
    "collapsed": false
   }
  },
  {
   "cell_type": "code",
   "execution_count": null,
   "outputs": [],
   "source": [
    "spotify_df = pd.concat([X, spotify_songs[\"id\"]], axis=1)\n",
    "spotify_df"
   ],
   "metadata": {
    "collapsed": false
   }
  },
  {
   "cell_type": "code",
   "execution_count": null,
   "outputs": [],
   "source": [
    "import config"
   ],
   "metadata": {
    "collapsed": false
   }
  },
  {
   "cell_type": "code",
   "execution_count": null,
   "outputs": [],
   "source": [
    "import spotipy\n",
    "import json\n",
    "from spotipy.oauth2 import SpotifyClientCredentials\n",
    "from IPython.display import IFrame, display\n",
    "import random\n",
    "\n",
    "sp = spotipy.Spotify(auth_manager=SpotifyClientCredentials(client_id= \"05734a5b7ac74c91bdda91ff4fd75ba4\",\n",
    "                                                           client_secret= \"bccf89cd94604e4f86b2a821003da952\"))"
   ],
   "metadata": {
    "collapsed": false
   }
  },
  {
   "cell_type": "code",
   "execution_count": null,
   "outputs": [],
   "source": [
    "def hot_songs():\n",
    "    song_ = treating_typos_song()\n",
    "    artist_ = treating_typos_artist()\n",
    "\n",
    "    if song_ in songs and artist_ in artists:\n",
    "        filter_song_out(song_, artist_)\n",
    "        x = list(song_random[\"Titles\"])[0]\n",
    "        y = list(song_random[\"Artists\"])[0]\n",
    "        output_song1 = sp.search(q=y + x, limit=1)\n",
    "        track_id1=output_song1[\"tracks\"][\"items\"][0][\"id\"]\n",
    "        music1 = IFrame(src=\"https://open.spotify.com/embed/track/\"+track_id1,\n",
    "                      width=\"320\",\n",
    "                      height=\"80\",\n",
    "                     frameborder=\"0\",\n",
    "                      allowtransparency=\"true\",\n",
    "                      allow=\"encrypted-media\",\n",
    "                    )\n",
    "        print(\"Your song is in the top 100 and this is our recommendation for you:\")\n",
    "        display(music1)\n",
    "    else:\n",
    "        input_song = sp.search(q=artist_ + song_,limit=1)\n",
    "        track_id=input_song[\"tracks\"][\"items\"][0][\"id\"]\n",
    "        music = IFrame(src=\"https://open.spotify.com/embed/track/\"+track_id,\n",
    "                      width=\"320\",\n",
    "                      height=\"80\",\n",
    "                     frameborder=\"0\",\n",
    "                      allowtransparency=\"true\",\n",
    "                      allow=\"encrypted-media\",\n",
    "                    )\n",
    "\n",
    "\n",
    "        display(music)\n",
    "        confirmation = input(\"Is this the song you chose?(y/n) \")\n",
    "        print(confirmation)\n",
    "        if confirmation == \"n\":\n",
    "            print(\"Please, try again.\")\n",
    "        elif confirmation == \"y\":\n",
    "            song_df = pd.DataFrame(sp.audio_features(input_song[\"tracks\"][\"items\"][0][\"id\"]))\n",
    "            song_df=song_df[[\"danceability\",\"energy\",\"loudness\",\"speechiness\",\"acousticness\", \"instrumentalness\",\"liveness\",\"valence\",\"tempo\",\"id\",\"duration_ms\"]]\n",
    "            song_df2 = song_df.drop(columns = \"id\")\n",
    "            song_df2_scaled = scaler.transform(song_df2)\n",
    "            song_df2_scaled = pd.DataFrame(song_df2_scaled, columns = song_df2.columns)\n",
    "            cluster = int(kmeans.predict(song_df2_scaled))\n",
    "            similar_songs = list(np.where(spotify_df[\"cluster\"] == cluster)[0])\n",
    "            recommendation = random.choice(similar_songs)\n",
    "            id_recommendation = spotify_df.iloc[recommendation,11]\n",
    "            output_song = IFrame(src=\"https://open.spotify.com/embed/track/\"+id_recommendation,\n",
    "                             width=\"320\",\n",
    "                             height=\"80\",\n",
    "                             frameborder=\"0\",\n",
    "                             allowtransparency=\"true\",\n",
    "                             allow=\"encrypted-media\",\n",
    "                            )\n",
    "            print(\"This is our recommendation for you:\")\n",
    "            return output_song\n",
    "        else:\n",
    "            print(\"You should type y for yes or n for no. Please try again.\")"
   ],
   "metadata": {
    "collapsed": false
   }
  },
  {
   "cell_type": "code",
   "execution_count": 102,
   "outputs": [],
   "source": [
    "hot_songs()"
   ],
   "metadata": {
    "collapsed": false,
    "ExecuteTime": {
     "end_time": "2023-08-30T16:30:26.160273200Z",
     "start_time": "2023-08-30T16:30:26.148665100Z"
    }
   }
  },
  {
   "cell_type": "code",
   "execution_count": 104,
   "outputs": [
    {
     "data": {
      "text/plain": "<IPython.lib.display.IFrame at 0x184b56097d0>",
      "text/html": "\n        <iframe\n            width=\"320\"\n            height=\"80\"\n            src=\"https://open.spotify.com/embed/track/3LELTbDh9YCJrJIUERcj9p?frameborder=0&allowtransparency=true&allow=encrypted-media\"\n            frameborder=\"0\"\n            allowfullscreen\n            \n        ></iframe>\n        "
     },
     "metadata": {},
     "output_type": "display_data"
    },
    {
     "name": "stdout",
     "output_type": "stream",
     "text": [
      "y\n",
      "This is our recommendation for you:\n"
     ]
    },
    {
     "data": {
      "text/plain": "<IPython.lib.display.IFrame at 0x184b562bb50>",
      "text/html": "\n        <iframe\n            width=\"320\"\n            height=\"80\"\n            src=\"https://open.spotify.com/embed/track/7aHo0pzlvOxGF4BdxL6etd?frameborder=0&allowtransparency=true&allow=encrypted-media\"\n            frameborder=\"0\"\n            allowfullscreen\n            \n        ></iframe>\n        "
     },
     "execution_count": 104,
     "metadata": {},
     "output_type": "execute_result"
    }
   ],
   "source": [],
   "metadata": {
    "collapsed": false,
    "ExecuteTime": {
     "end_time": "2023-08-30T16:31:09.043603200Z",
     "start_time": "2023-08-30T16:31:00.237300500Z"
    }
   }
  }
 ],
 "metadata": {
  "kernelspec": {
   "display_name": "Python 3",
   "language": "python",
   "name": "python3"
  },
  "language_info": {
   "codemirror_mode": {
    "name": "ipython",
    "version": 2
   },
   "file_extension": ".py",
   "mimetype": "text/x-python",
   "name": "python",
   "nbconvert_exporter": "python",
   "pygments_lexer": "ipython2",
   "version": "2.7.6"
  }
 },
 "nbformat": 4,
 "nbformat_minor": 0
}
